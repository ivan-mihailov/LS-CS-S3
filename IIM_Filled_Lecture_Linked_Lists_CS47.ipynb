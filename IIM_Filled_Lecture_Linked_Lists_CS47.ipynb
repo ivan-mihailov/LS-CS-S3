{
  "nbformat": 4,
  "nbformat_minor": 0,
  "metadata": {
    "colab": {
      "name": "IIM_Filled_Lecture_Linked_Lists_CS47.ipynb",
      "provenance": [],
      "collapsed_sections": [],
      "include_colab_link": true
    },
    "kernelspec": {
      "name": "python3",
      "display_name": "Python 3"
    },
    "language_info": {
      "name": "python"
    }
  },
  "cells": [
    {
      "cell_type": "markdown",
      "metadata": {
        "id": "view-in-github",
        "colab_type": "text"
      },
      "source": [
        "<a href=\"https://colab.research.google.com/github/ivan-mihailov/LS-CS-S3/blob/main/IIM_Filled_Lecture_Linked_Lists_CS47.ipynb\" target=\"_parent\"><img src=\"https://colab.research.google.com/assets/colab-badge.svg\" alt=\"Open In Colab\"/></a>"
      ]
    },
    {
      "cell_type": "markdown",
      "metadata": {
        "id": "n7ABKPAenS30"
      },
      "source": [
        "# Linked Lists\n",
        "\n",
        "- Non Contiguous Data Structure\n",
        "- contains at least a Value and a Ref to the Next Node in the List\n",
        "\n",
        "Think of it as a simple Treasure hunt where each node is a House (Node),  containing a clue (Ref) to get you to the next House (Node), and the final Node is a note saying Finnished (None)"
      ]
    },
    {
      "cell_type": "code",
      "metadata": {
        "id": "NQkmPzwOnRwT"
      },
      "source": [
        "# memory[34543] = l\n",
        "# memory[34543] = l.value (5)\n",
        "# memory[34550] = l.next (767543)\n",
        "# memory[767543] = l.next.value (6)\n",
        "# memory[767559] = l.next.next (None)\n",
        "\n",
        "#[5] -> [6] -> None\n",
        "\n",
        "# Linked List Node\n",
        "\n",
        "class LinkedListNode:\n",
        "  \"\"\"\n",
        "  - value => A value held in the node\n",
        "  - next => A reference to the next node in the chain\n",
        "  \"\"\"\n",
        "  def __init__(self, value):\n",
        "    self.value = value\n",
        "    self.next = None\n",
        "\n",
        "  def __str__(self):\n",
        "    return f\"[{self.value}] -> {self.next}\"\n",
        "\n",
        "l = LinkedListNode(5)\n",
        "l.next = LinkedListNode(6)"
      ],
      "execution_count": 16,
      "outputs": []
    },
    {
      "cell_type": "markdown",
      "metadata": {
        "id": "v4ijsW5RqoYQ"
      },
      "source": [
        "# Let's make some linked lists\n",
        "```\n",
        "[[5, 6, 7]]->[6]->[7]->None\n",
        "\n",
        "l = LinkedListNode([5, 6, 7]\n",
        "l.next = LinkedListNode(6)\n",
        "l.next.next = LinkedListNode(7)\n",
        "\n",
        "current node = l\n",
        "while current_node not None:\n",
        "  print(current_node.value)\n",
        "  \n",
        "  current_node = current_node.next\n",
        "```"
      ]
    },
    {
      "cell_type": "code",
      "metadata": {
        "colab": {
          "base_uri": "https://localhost:8080/"
        },
        "id": "xDkdftCmCFrH",
        "outputId": "9a9d2b26-f55c-4d26-ea2c-95ee7ae8e6fc"
      },
      "source": [
        "l = LinkedListNode([5, 6, 7])\n",
        "l.next = LinkedListNode(6)\n",
        "l.next.next = LinkedListNode(7)\n",
        "t = 7\n",
        "\n",
        "def search_ll(l, target):\n",
        "  current_node = l\n",
        "\n",
        "  while current_node is not None:\n",
        "    if current_node.value == target:\n",
        "      return current_node\n",
        "    \n",
        "    current_node = current_node.next\n",
        "  \n",
        "  return None\n",
        "\n",
        "found_node = search_ll(l, t)\n",
        "#print(found_node.value)\n",
        "print(l)"
      ],
      "execution_count": 17,
      "outputs": [
        {
          "output_type": "stream",
          "name": "stdout",
          "text": [
            "[[5, 6, 7]] -> [6] -> [7] -> None\n"
          ]
        }
      ]
    },
    {
      "cell_type": "markdown",
      "metadata": {
        "id": "uNkE1vB5qk-t"
      },
      "source": [
        "# Demo"
      ]
    },
    {
      "cell_type": "code",
      "metadata": {
        "id": "x-rgCdbwqdPs"
      },
      "source": [
        "\"\"\"\n",
        "Given a reference to the head node of a singly-linked list, write a function\n",
        "that reverses the linked list in place. The function should return the new head\n",
        "of the reversed list.\n",
        "In order to do this in O(1) space (in-place), you cannot make a new list, you\n",
        "need to use the existing nodes.\n",
        "In order to do this in O(n) time, you should only have to traverse the list\n",
        "once.\n",
        "*Note: If you get stuck, try drawing a picture of a small linked list and\n",
        "running your function by hand. Does it actually work? Also, don't forget to\n",
        "consider edge cases (like a list with only 1 or 0 elements).*\n",
        "\n",
        "Understand:\n",
        "- need to move the references around; not moving the values\n",
        "- set up Previous_Node (P), Current_Node(C), Next_Node(n_n)\n",
        "- while C is not None:\n",
        "  - copy the Ref (n_n) to C.next\n",
        "  - set C.next to P\n",
        "  - set P to C\n",
        "  - set C to n_n\n",
        "- return P\n",
        "\n",
        "Plan:\n",
        "- set current_node = head_of_list\n",
        "- set prev_node =  None\n",
        "- set next_node = None\n",
        "- while current_node is not None:\n",
        "  - set next_node to current_node.next\n",
        "  - set current_node.next to prev_node\n",
        "  - set prev_node to current_node\n",
        "  - set current_node to next_node\n",
        "- return prev_node\n",
        "\n",
        "\"\"\"\n",
        "class LinkedListNode:\n",
        "    \n",
        "    def __init__(self, value):\n",
        "        self.value = value\n",
        "        self.next  = None\n",
        "    \n",
        "    # def __str__(self):\n",
        "    #   return f\"[{self.value}] -> {self.next}\"\n",
        "\n",
        "def reverse(head_of_list):\n",
        "  current_node = head_of_list\n",
        "  prev_node =  None\n",
        "  next_node = None\n",
        "\n",
        "  while current_node is not None:\n",
        "    next_node = current_node.next\n",
        "    current_node.next = prev_node\n",
        "    prev_node = current_node\n",
        "    current_node = next_node\n",
        "  \n",
        "  return prev_node"
      ],
      "execution_count": 42,
      "outputs": []
    },
    {
      "cell_type": "code",
      "metadata": {
        "id": "nEWObrYhOzE_"
      },
      "source": [
        "l = LinkedListNode([5, 6, 7])\n",
        "l.next = LinkedListNode(6)\n",
        "l.next.next = LinkedListNode(7)"
      ],
      "execution_count": 43,
      "outputs": []
    },
    {
      "cell_type": "code",
      "metadata": {
        "colab": {
          "base_uri": "https://localhost:8080/"
        },
        "id": "z_bnakQmOZtn",
        "outputId": "0d2f8aff-953a-4cf6-d348-e7ba308c582d"
      },
      "source": [
        "print(l)\n",
        "l = reverse(l)\n",
        "print(l)"
      ],
      "execution_count": 37,
      "outputs": [
        {
          "output_type": "stream",
          "name": "stdout",
          "text": [
            "[[5, 6, 7]] -> [6] -> [7] -> None\n",
            "[7] -> [6] -> [[5, 6, 7]] -> None\n"
          ]
        }
      ]
    },
    {
      "cell_type": "code",
      "metadata": {
        "id": "XP63skIAPRA8"
      },
      "source": [
        "l_null = LinkedListNode(None)"
      ],
      "execution_count": 38,
      "outputs": []
    },
    {
      "cell_type": "code",
      "metadata": {
        "colab": {
          "base_uri": "https://localhost:8080/"
        },
        "id": "0OOub3v8PWBs",
        "outputId": "8e5ab5f0-9dc1-4c05-f17e-4e6a594d2d60"
      },
      "source": [
        "print(l_null)\n",
        "l_null = reverse(l_null)\n",
        "print(l_null)"
      ],
      "execution_count": 39,
      "outputs": [
        {
          "output_type": "stream",
          "name": "stdout",
          "text": [
            "[None] -> None\n",
            "[None] -> None\n"
          ]
        }
      ]
    },
    {
      "cell_type": "code",
      "metadata": {
        "colab": {
          "base_uri": "https://localhost:8080/"
        },
        "id": "GeoT8NNhPamP",
        "outputId": "9ea96677-5439-4240-a1d2-64ed15bb6b0b"
      },
      "source": [
        "l_one_node = LinkedListNode(5)\n",
        "print(l_one_node)\n",
        "l_one_node = reverse(l_one_node)\n",
        "print(l_one_node)\n"
      ],
      "execution_count": 40,
      "outputs": [
        {
          "output_type": "stream",
          "name": "stdout",
          "text": [
            "[5] -> None\n",
            "[5] -> None\n"
          ]
        }
      ]
    },
    {
      "cell_type": "code",
      "metadata": {
        "colab": {
          "base_uri": "https://localhost:8080/"
        },
        "id": "9I2gDEXWUPpf",
        "outputId": "30a47fb5-6629-4cba-fe56-e944751d13ba"
      },
      "source": [
        "# alternative method for checking results is to traverse the linked list\n",
        "current = l\n",
        "while current:\n",
        "  print(current.value)\n",
        "  current = current.next\n",
        "\n",
        "print()\n",
        "\n",
        "l = reverse(l)\n",
        "current = l\n",
        "while current:\n",
        "  print(current.value)\n",
        "  current = current.next"
      ],
      "execution_count": 44,
      "outputs": [
        {
          "output_type": "stream",
          "name": "stdout",
          "text": [
            "[5, 6, 7]\n",
            "6\n",
            "7\n",
            "\n",
            "7\n",
            "6\n",
            "[5, 6, 7]\n"
          ]
        }
      ]
    }
  ]
}