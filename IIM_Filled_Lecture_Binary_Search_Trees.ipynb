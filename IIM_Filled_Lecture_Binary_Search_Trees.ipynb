{
  "nbformat": 4,
  "nbformat_minor": 0,
  "metadata": {
    "colab": {
      "name": "IIM_Filled_Lecture_Binary_Search_Trees.ipynb",
      "provenance": [],
      "collapsed_sections": [],
      "include_colab_link": true
    },
    "kernelspec": {
      "name": "python3",
      "display_name": "Python 3"
    },
    "language_info": {
      "name": "python"
    }
  },
  "cells": [
    {
      "cell_type": "markdown",
      "metadata": {
        "id": "view-in-github",
        "colab_type": "text"
      },
      "source": [
        "<a href=\"https://colab.research.google.com/github/ivan-mihailov/LS-CS-S3/blob/main/IIM_Filled_Lecture_Binary_Search_Trees.ipynb\" target=\"_parent\"><img src=\"https://colab.research.google.com/assets/colab-badge.svg\" alt=\"Open In Colab\"/></a>"
      ]
    },
    {
      "cell_type": "markdown",
      "metadata": {
        "id": "PoJlV1H2ubWL"
      },
      "source": [
        "# Binary Trees\n",
        "\n",
        "```\n",
        "    5\n",
        "   / \\\n",
        "  12  32\n",
        "     /  \\\n",
        "    8    4\n",
        "```\n"
      ]
    },
    {
      "cell_type": "code",
      "metadata": {
        "id": "iOg6ZdsMh6rI"
      },
      "source": [
        "# lets make a node\n",
        "class Node:\n",
        "  def __init__(self, value):\n",
        "    self.value = value\n",
        "\n",
        "\n",
        "n = Node(10)\n",
        "\n",
        "# [10]"
      ],
      "execution_count": null,
      "outputs": []
    },
    {
      "cell_type": "code",
      "metadata": {
        "id": "o-87Olqvum0R"
      },
      "source": [
        "# lets make a linked list node\n",
        "class LLNode:\n",
        "  def __init__(self, value):\n",
        "    self.value = value\n",
        "    self.next = None\n",
        "\n",
        "\n",
        "l = LLNode(10)\n",
        "l.next = LLNode(20)\n",
        "l.next.next = LLNode(30)\n",
        "\n",
        "\n",
        "# [10] -> [20] -> [30] -> None"
      ],
      "execution_count": null,
      "outputs": []
    },
    {
      "cell_type": "code",
      "metadata": {
        "id": "ALIi6jOBuqZR"
      },
      "source": [
        "# lets refactor the linked list node to be a doubly linked list node\n",
        "class DLLNode:\n",
        "  def __init__(self, value):\n",
        "    self.value = value\n",
        "    self.next = None\n",
        "    self.prev = None\n",
        "\n",
        "\n",
        "dl = DLLNode(10)\n",
        "\n",
        "# None <- [10] -> None"
      ],
      "execution_count": null,
      "outputs": []
    },
    {
      "cell_type": "code",
      "metadata": {
        "id": "Mtias5WQuuJ5"
      },
      "source": [
        "# Lets refactor the doubly linked list node to be a binary tree node\n",
        "class BTNode:\n",
        "  def __init__(self, value):\n",
        "    self.value = value\n",
        "    self.left = None\n",
        "    self.right = None\n",
        "\n",
        "\n",
        "bt = BTNode(10)\n",
        "bt.left = BTNode(34)\n",
        "bt.right = BTNode(12)\n",
        "\"\"\"\n",
        "[12, 34, 1, 56, 1]\n",
        "        [12]\n",
        "      /      \\\n",
        "     [1]      [34]\n",
        "    /   \\        \\\n",
        "  [1]   [12]    [56]\n",
        "        /  \\\n",
        "      n     n\n",
        "\n",
        "\"\"\""
      ],
      "execution_count": null,
      "outputs": []
    },
    {
      "cell_type": "code",
      "metadata": {
        "colab": {
          "base_uri": "https://localhost:8080/",
          "height": 105
        },
        "id": "lSWbvyXKQy1s",
        "outputId": "05dca6e2-eafe-4610-b571-5d0b7992018a"
      },
      "source": [
        "# Lets refactor the doubly linked list node to be a binary tree node\n",
        "class BSTNode:\n",
        "  def __init__(self, value):\n",
        "    self.value = value\n",
        "    self.left = None\n",
        "    self.right = None\n",
        "  \n",
        "  def insert(self, value):\n",
        "    # left case?\n",
        "    if value < self.value:\n",
        "      if self.left is None:\n",
        "        self.left = BSTNode(value)\n",
        "      else:\n",
        "        self.left.insert(value)\n",
        "    else:\n",
        "      if self.right is None:\n",
        "        self.right = BSTNode(value)\n",
        "      else:\n",
        "        self.right.insert(value)\n",
        "\n",
        "  def search(self, target):\n",
        "    # base case\n",
        "    if self.value == target:\n",
        "      return self\n",
        "    \n",
        "    # left case\n",
        "    if target < self.value:\n",
        "      if self.left is None:\n",
        "        return False\n",
        "      else:\n",
        "        self.left.search(target)\n",
        "    else:\n",
        "      if self.right is None:\n",
        "        return False\n",
        "      else:\n",
        "        self.right.search(target)\n",
        "\n",
        "\n",
        "bt = BSTNode(10)\n",
        "bt.left = BSTNode(34)\n",
        "bt.right = BSTNode(12)\n",
        "\"\"\"\n",
        "[12, 34, 1, 56, 1]\n",
        "        [12]\n",
        "      /      \\\n",
        "     [1]      [34]\n",
        "    /   \\        \\\n",
        "  [1]   [12]    [56]\n",
        "  /    /  \\\n",
        " [1]     n     n\n",
        "- Each Node can have up to 2 children (left, right)\n",
        "- if a number is inserted we run over this algorithm\n",
        "- if the current node is None, insert here\n",
        "- if value is less than to the root value then move to the left and run an insert on the left\n",
        "- otherwise move to the right and run an insert on the right\n",
        "\n",
        "The left subtree of a node contains only nodes with keys lesser than the node’s key.\n",
        "The right subtree of a node contains only nodes with keys greater than the node’s key.\n",
        "The left and right subtree each must also be a binary search tree.\n",
        "\"\"\""
      ],
      "execution_count": null,
      "outputs": [
        {
          "output_type": "execute_result",
          "data": {
            "application/vnd.google.colaboratory.intrinsic+json": {
              "type": "string"
            },
            "text/plain": [
              "'\\n[12, 34, 1, 56, 1]\\n        [12]\\n      /           [1]      [34]\\n    /   \\\\          [1]   [12]    [56]\\n  /    /   [1]     n     n\\n- Each Node can have up to 2 children (left, right)\\n- if a number is inserted we run over this algorithm\\n- if the current node is None, insert here\\n- if value is less than to the root value then move to the left and run an insert on the left\\n- otherwise move to the right and run an insert on the right\\n\\nThe left subtree of a node contains only nodes with keys lesser than the node’s key.\\nThe right subtree of a node contains only nodes with keys greater than the node’s key.\\nThe left and right subtree each must also be a binary search tree.\\n'"
            ]
          },
          "metadata": {},
          "execution_count": 10
        }
      ]
    },
    {
      "cell_type": "markdown",
      "metadata": {
        "id": "ZWXqcb6KvAqV"
      },
      "source": [
        "# CODE: 3479"
      ]
    },
    {
      "cell_type": "markdown",
      "metadata": {
        "id": "S9c0tX8vvRe_"
      },
      "source": [
        "# DEMO"
      ]
    },
    {
      "cell_type": "code",
      "metadata": {
        "colab": {
          "base_uri": "https://localhost:8080/"
        },
        "id": "gmccXXjKvSn0",
        "outputId": "e720e24f-447b-48c8-acc5-8b662ecb951c"
      },
      "source": [
        "\"\"\"\n",
        "You are given a binary tree.\n",
        "Write a function that can find the **maximum depth** of the binary tree. The\n",
        "maximum depth can be defined as the number of nodes found along the longest\n",
        "path from the root down to the furthest leaf node. Remember, a leaf node is a\n",
        "node that has no children.\n",
        "Example:\n",
        "Given the following binary tree\n",
        "max_depth = 2\n",
        "left_height = 0\n",
        "right_height = 0\n",
        "\n",
        "- if there is no root node then return a zero\n",
        "\n",
        "- otherwise\n",
        "  - set a left height based on a call to the max depth on the left node\n",
        "  - set a right height based on a call to the max depth on the right node\n",
        "  - get the max of the left height and the right height then return that plus 1\n",
        "\n",
        "** iterative version **\n",
        "- create a stack to simulate the call stack\n",
        "\n",
        "- if the root node is not none\n",
        "  - append the root node to the stack and also the height of that node (1, root)\n",
        "\n",
        "max_depth = 0\n",
        "\n",
        "- while the stack is not empty\n",
        "  pop the tuple off the stack, extracting the current_depth and the root_node\n",
        "\n",
        "  - if the root_node is not none\n",
        "    set max_depth to the max of current_depth and the max_depth\n",
        "    - push the data of (max_depth + 1, root_node.left) on to the stack\n",
        "    - push the data of (max_depth + 1, root_node.right) on to the stack\n",
        "\n",
        "return the max_depth to the caller\n",
        "\n",
        "    5\n",
        "   / \\\n",
        " 12  32\n",
        "     /  \\\n",
        "    8     4 \n",
        "  /  \\   /  \\\n",
        "  n\n",
        "your function should return the depth = 3.\n",
        "\"\"\"\n",
        "\n",
        "from time import time\n",
        "class BinaryTreeNode:\n",
        "    def __init__(self, value=0, left=None, right=None):\n",
        "        self.value = value\n",
        "        self.left = left\n",
        "        self.right = right\n",
        "r = BinarySearchTree(5)\n",
        "r.left = BinarySearchTree(12)\n",
        "r.right = BinarySearchTree(32)\n",
        "r.right.left = BinarySearchTree(8)\n",
        "r.right.right = BinarySearchTree(4)\n",
        "\n",
        "def maxDepthR(root):\n",
        "  \"\"\"\n",
        "  # if we have a root of None\n",
        "    # return zero\n",
        "\n",
        "  # otherwise\n",
        "    # get the left height\n",
        "    # get the right height\n",
        "    # return the max of the left height and the right height + 1\n",
        "  O(log n)\n",
        "  10000\n",
        "  14\n",
        "  \"\"\"\n",
        "  if root is None:\n",
        "    return 0\n",
        "  else:\n",
        "    left_height = maxDepthR(root.left)\n",
        "    right_height = maxDepthR(root.right)\n",
        "    return max(left_height, right_height) + 1\n",
        "\n",
        "\n",
        "def maxDepthI(root):\n",
        "  stack = []\n",
        "  max_depth = 0\n",
        "\n",
        "  if root is not None:\n",
        "    stack.append((1, root))\n",
        "\n",
        "  while len(stack) > 0:\n",
        "    item = stack.pop()\n",
        "    current_depth = item[0]\n",
        "    root = item[1]\n",
        "\n",
        "    if root is not None:\n",
        "      max_depth = max(max_depth, current_depth)\n",
        "      stack.append((current_depth + 1, root.left))\n",
        "      stack.append((current_depth + 1, root.right))\n",
        "\n",
        "  return max_depth\n",
        "\n",
        "start = time() # now\n",
        "print(maxDepthR(r))\n",
        "end = time() # now\n",
        "print(\"recursive time\", end - start)\n",
        "\n",
        "start = time()\n",
        "print(maxDepthI(r))\n",
        "end = time()\n",
        "print(\"iterative time\", end - start)"
      ],
      "execution_count": null,
      "outputs": [
        {
          "output_type": "stream",
          "name": "stdout",
          "text": [
            "3\n",
            "recursive time 0.0006995201110839844\n",
            "3\n",
            "iterative time 0.00034236907958984375\n"
          ]
        }
      ]
    },
    {
      "cell_type": "markdown",
      "metadata": {
        "id": "V8EQbYHD0xUM"
      },
      "source": [
        "# Augmentation (Extras)\n",
        "\n",
        "- [Bonus Video](https://youtu.be/Z0ZnRd2w8Ik) Delete a node from BST (11 mins watch time)"
      ]
    },
    {
      "cell_type": "code",
      "metadata": {
        "id": "grFMAOUZ0z0W"
      },
      "source": [
        ""
      ],
      "execution_count": null,
      "outputs": []
    }
  ]
}