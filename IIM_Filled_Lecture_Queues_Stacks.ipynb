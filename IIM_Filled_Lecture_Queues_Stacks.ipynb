{
  "nbformat": 4,
  "nbformat_minor": 0,
  "metadata": {
    "colab": {
      "name": "IIM_Filled_Lecture_Queues_Stacks.ipynb",
      "provenance": [],
      "collapsed_sections": [],
      "include_colab_link": true
    },
    "kernelspec": {
      "name": "python3",
      "display_name": "Python 3"
    },
    "language_info": {
      "name": "python"
    }
  },
  "cells": [
    {
      "cell_type": "markdown",
      "metadata": {
        "id": "view-in-github",
        "colab_type": "text"
      },
      "source": [
        "<a href=\"https://colab.research.google.com/github/ivan-mihailov/LS-CS-S3/blob/main/IIM_Filled_Lecture_Queues_Stacks.ipynb\" target=\"_parent\"><img src=\"https://colab.research.google.com/assets/colab-badge.svg\" alt=\"Open In Colab\"/></a>"
      ]
    },
    {
      "cell_type": "markdown",
      "metadata": {
        "id": "EAuXABXPKskv"
      },
      "source": [
        "# CODE: 2710"
      ]
    },
    {
      "cell_type": "markdown",
      "metadata": {
        "id": "wsrlqxL6aFNH"
      },
      "source": [
        "# Queues and Stacks\n",
        "- Stack is a LIFO Data Structure\n",
        "- Queue is a FIFO Data Structure\n",
        "\n"
      ]
    },
    {
      "cell_type": "code",
      "metadata": {
        "colab": {
          "base_uri": "https://localhost:8080/"
        },
        "id": "m6_ZBvpxaDL5",
        "outputId": "8a57cf3d-d19c-42de-90e7-9425b8f7fdaa"
      },
      "source": [
        "# lets write a Stack class using a python list as a backing data structure\n",
        "class Stack:\n",
        "  def __init__(self):\n",
        "    self.storage = []\n",
        "\n",
        "  def push(self, item):\n",
        "    self.storage.append(item)\n",
        "  \n",
        "  def pop(self):\n",
        "    return self.storage.pop()\n",
        "\n",
        "  def __len__(self):\n",
        "    return len(self.storage)\n",
        "\n",
        "s = Stack()\n",
        "\n",
        "s.push(1)\n",
        "s.push(2)\n",
        "s.push(3)\n",
        "\n",
        "print(s.pop())\n",
        "print(len(s))"
      ],
      "execution_count": null,
      "outputs": [
        {
          "output_type": "stream",
          "name": "stdout",
          "text": [
            "3\n",
            "2\n"
          ]
        }
      ]
    },
    {
      "cell_type": "code",
      "metadata": {
        "colab": {
          "base_uri": "https://localhost:8080/"
        },
        "id": "dzeCmYhWaaYs",
        "outputId": "c184aedb-3861-4fac-dc48-950f2e51659a"
      },
      "source": [
        "# lets write a Queue class using a python list as a backing data structure\n",
        "class Queue:\n",
        "  def __init__(self):\n",
        "    self.storage = []\n",
        "\n",
        "  def size(self):\n",
        "    return self.__len__()\n",
        "\n",
        "  def enqueue(self, item):\n",
        "    self.storage.append(item)\n",
        "  \n",
        "  def dequeue(self):\n",
        "    return self.storage.pop(0)\n",
        "  \n",
        "  # def __add__(self, other):\n",
        "  #   new_storage = self.storage + other.storage\n",
        "  #   self.storage new_storage\n",
        "  \n",
        "  def __len__(self):\n",
        "    return len(self.storage)\n",
        "l = []\n",
        "l.append(1)\n",
        "l.append(2)\n",
        "l.append(3)\n",
        "print(\"from list: \", l.pop(0))\n",
        "q = Queue()\n",
        "\n",
        "q.enqueue(1)\n",
        "q.enqueue(2)\n",
        "q.enqueue(3)\n",
        "print(q.dequeue())\n",
        "print(len(q))\n"
      ],
      "execution_count": null,
      "outputs": [
        {
          "output_type": "stream",
          "name": "stdout",
          "text": [
            "from list:  3\n",
            "1\n",
            "2\n"
          ]
        }
      ]
    },
    {
      "cell_type": "code",
      "metadata": {
        "id": "__iQNoO9a9Lv"
      },
      "source": [
        "# lets write a Queue class using a linked list as a backing data structure\n",
        "class LinkedListNode:\n",
        "  def __init__(self, data):\n",
        "    self.data = data\n",
        "    self.next = None\n",
        "\n",
        "class Queue:\n",
        "  def __init__(self):\n",
        "    self.front = None\n",
        "    self.rear = None\n",
        "\n",
        "  def enqueue(self, item):\n",
        "    new_node = LinkedListNode(item)\n",
        "\n",
        "    # check if queue is empty\n",
        "    if self.rear is None:\n",
        "      self.rear = new_node\n",
        "      self.front = new_node\n",
        "    else:\n",
        "      self.rear.next = new_node\n",
        "      self.rear = new_node\n",
        "\n",
        "  def dequeue(self):\n",
        "    if self.front is not None:\n",
        "      old_front = self.front\n",
        "      self.front = old_front.next\n",
        "\n",
        "    if self.front is None:\n",
        "      self.rear = None\n",
        "    \n",
        "    return old_front\n"
      ],
      "execution_count": null,
      "outputs": []
    },
    {
      "cell_type": "code",
      "metadata": {
        "id": "XfMGAX80alFw"
      },
      "source": [
        "# lets write a Stack class using a linked list as a backing data structure\n",
        "class LinkedListNode:\n",
        "  def __init__(self, data):\n",
        "    self.data = data\n",
        "    self.next = None\n",
        "\n",
        "class Stack:\n",
        "  def __init__(self):\n",
        "    self.top = None\n",
        "\n",
        "  def push(self, data):\n",
        "    new_node = LinkedListNode(data)\n",
        "    new_node.next = self.top\n",
        "    self.top = new_node\n",
        "\n",
        "  def pop(self):\n",
        "    if self.top is not None:\n",
        "      popped_node = self.top\n",
        "      self.top = popped_node.next\n",
        "      return popped_node"
      ],
      "execution_count": null,
      "outputs": []
    },
    {
      "cell_type": "markdown",
      "metadata": {
        "id": "xXIU-Q3ubD1X"
      },
      "source": [
        "# Demo"
      ]
    },
    {
      "cell_type": "code",
      "metadata": {
        "id": "zA3tJW52bFK0",
        "colab": {
          "base_uri": "https://localhost:8080/",
          "height": 69
        },
        "outputId": "ebd2b94b-a64e-4df0-b7d1-f295329944ff"
      },
      "source": [
        "\"\"\"\n",
        "You've encountered a situation where you want to easily be able to pull the\n",
        "largest integer from a stack.\n",
        "You already have a `Stack` class that you've implemented using a dynamic array.\n",
        "Use this `Stack` class to implement a new class `MaxStack` with a method\n",
        "`get_max()` that returns the largest element in the stack. `get_max()` should\n",
        "not remove the item.\n",
        "*Note: Your stacks will contain only integers. You should be able to get a\n",
        "runtime of O(1) for push(), pop(), and get_max().*\n",
        "\"\"\"\n",
        "class Stack:\n",
        "    def __init__(self):\n",
        "        \"\"\"Initialize an empty stack\"\"\"\n",
        "        self.items = []\n",
        "\n",
        "    def push(self, item):\n",
        "        \"\"\"Push a new item onto the stack\"\"\"\n",
        "        self.items.append(item)\n",
        "\n",
        "    def pop(self):\n",
        "        \"\"\"Remove and return the last item\"\"\"\n",
        "        # If the stack is empty, return None\n",
        "        # (it would also be reasonable to throw an exception)\n",
        "        if not self.items:\n",
        "            return None\n",
        "\n",
        "        return self.items.pop()\n",
        "\n",
        "    def peek(self):\n",
        "        \"\"\"Return the last item without removing it\"\"\"\n",
        "        if not self.items:\n",
        "            return None\n",
        "        return self.items[-1]\n",
        "\n",
        "class MaxStack:\n",
        "    def __init__(self):\n",
        "        self.storage_stack = Stack()\n",
        "        self.maxes_stack = Stack()\n",
        "\n",
        "\n",
        "    def push(self, item):\n",
        "        \"\"\"Add a new item onto the top of our stack.\"\"\"\n",
        "        self.storage_stack.push(item)\n",
        "\n",
        "        if self.maxes_stack.peek() is None or item > self.maxes_stack.peek():\n",
        "          self.maxes_stack.push(item)\n",
        "\n",
        "\n",
        "    def pop(self):\n",
        "        \"\"\"Remove and return the top item from our stack.\"\"\"\n",
        "        popped_item = self.storage_stack.pop()\n",
        "\n",
        "        if popped_item == self.maxes_stack.peek():\n",
        "          self.maxes_stack.pop()\n",
        "        \n",
        "        return popped_item\n",
        "\n",
        "    def get_max(self):\n",
        "        \"\"\"The last item in maxes_stack is the max item in our stack.\"\"\"\n",
        "        return self.maxes_stack.peek()\n",
        "\n",
        "class MinStack:\n",
        "    def __init__(self):\n",
        "        self.storage_stack = Stack()\n",
        "        self.mins_stack = Stack()\n",
        "\n",
        "\n",
        "    def push(self, item):\n",
        "        \"\"\"Add a new item onto the top of our stack.\"\"\"\n",
        "        self.storage_stack.push(item)\n",
        "\n",
        "        if self.mins_stack.peek() is None or item < self.mins_stack.peek():\n",
        "          self.mins_stack.push(item)\n",
        "\n",
        "\n",
        "    def pop(self):\n",
        "        \"\"\"Remove and return the top item from our stack.\"\"\"\n",
        "        popped_item = self.storage_stack.pop()\n",
        "\n",
        "        if popped_item == self.mins_stack.peek():\n",
        "          self.mins_stack.pop()\n",
        "        \n",
        "        return popped_item\n",
        "\n",
        "    def get_min(self):\n",
        "        \"\"\"The last item in maxes_stack is the max item in our stack.\"\"\"\n",
        "        return self.mins_stack.peek()\n",
        "\n",
        "\"\"\"\n",
        "push(4)\n",
        "push(5)\n",
        "push(3)\n",
        "push(7)\n",
        "pop()\n",
        "\n",
        "- push on the storage stack\n",
        "- if the maxes_stack is empty or if the number is to push is greater than a peek\n",
        "of the maxes_stack:\n",
        "  - then also push onto the maxes_stack\n",
        "\n",
        "m = [4, 5, 7]\n",
        "s = [4, 5, 3, 7]\n",
        "\n",
        "For Pop:\n",
        "- store the item to be popped off\n",
        "- if the item on the top of the maxes_stack?\n",
        "  - if yes, pop the item off the maxes_stack as well\n",
        "\n",
        "- return the stored item to the caller\n",
        "pop()\n",
        "s_item = 7\n",
        "m = [4, 5]\n",
        "s = [4, 5, 3]\n",
        "\"\"\"\n"
      ],
      "execution_count": 9,
      "outputs": [
        {
          "output_type": "execute_result",
          "data": {
            "application/vnd.google.colaboratory.intrinsic+json": {
              "type": "string"
            },
            "text/plain": [
              "'\\npush(4)\\npush(5)\\npush(3)\\npush(7)\\npop()\\n\\n- push on the storage stack\\n- if the maxes_stack is empty or if the number is to push is greater than a peek\\nof the maxes_stack:\\n  - then also push onto the maxes_stack\\n\\nm = [4, 5, 7]\\ns = [4, 5, 3, 7]\\n\\nFor Pop:\\n- store the item to be popped off\\n- if the item on the top of the maxes_stack?\\n  - if yes, pop the item off the maxes_stack as well\\n\\n- return the stored item to the caller\\npop()\\ns_item = 7\\nm = [4, 5]\\ns = [4, 5, 3]\\n'"
            ]
          },
          "metadata": {},
          "execution_count": 9
        }
      ]
    },
    {
      "cell_type": "code",
      "metadata": {
        "colab": {
          "base_uri": "https://localhost:8080/"
        },
        "id": "IhZ4XxqPYdRQ",
        "outputId": "c7fd3646-9b52-45cd-8895-6c6d20ff7c97"
      },
      "source": [
        "s = MaxStack()\n",
        "s.push(4)\n",
        "s.push(5)\n",
        "s.push(3)\n",
        "print(s.get_max())\n",
        "s.push(7)\n",
        "print(s.get_max())\n",
        "s.pop()\n",
        "print(s.get_max())\n",
        "s.pop()\n",
        "print(s.get_max())\n",
        "s.pop()\n",
        "print(s.get_max())\n",
        "s.pop()\n",
        "print(s.get_max())"
      ],
      "execution_count": 5,
      "outputs": [
        {
          "output_type": "stream",
          "name": "stdout",
          "text": [
            "5\n",
            "7\n",
            "5\n",
            "5\n",
            "4\n",
            "None\n",
            "None\n"
          ]
        }
      ]
    },
    {
      "cell_type": "code",
      "metadata": {
        "colab": {
          "base_uri": "https://localhost:8080/"
        },
        "id": "RqY4tJ7haO8U",
        "outputId": "16cb218b-e584-4ee6-b641-2f71d42be11f"
      },
      "source": [
        "s = MinStack()\n",
        "s.push(4)\n",
        "s.push(5)\n",
        "s.push(3)\n",
        "print(s.get_min())\n",
        "s.push(7)\n",
        "print(s.get_min())\n",
        "s.pop()\n",
        "print(s.get_min())\n",
        "s.pop()\n",
        "print(s.get_min())\n",
        "s.pop()\n",
        "print(s.get_min())\n",
        "s.pop()\n",
        "print(s.get_min())"
      ],
      "execution_count": 10,
      "outputs": [
        {
          "output_type": "stream",
          "name": "stdout",
          "text": [
            "3\n",
            "3\n",
            "3\n",
            "4\n",
            "4\n",
            "None\n"
          ]
        }
      ]
    }
  ]
}